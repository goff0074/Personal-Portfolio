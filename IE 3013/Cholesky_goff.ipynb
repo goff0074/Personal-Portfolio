{
 "cells": [
  {
   "cell_type": "code",
   "execution_count": 1,
   "id": "43589a52-4694-4ee8-bfcf-15dc05229728",
   "metadata": {},
   "outputs": [],
   "source": [
    "import numpy as np\n",
    "import scipy.linalg as linalg"
   ]
  },
  {
   "cell_type": "code",
   "execution_count": 4,
   "id": "a42604b5-61d0-4d73-9eb5-b8040e927c8f",
   "metadata": {},
   "outputs": [],
   "source": [
    "grad_f = np.array([8404, 2602, -1004, 0])\n",
    "\n",
    "grad_sq_f = np.array([[10002, -1200, 0, 0], \n",
    "                    [-1200, 5402, -800, 0],\n",
    "                    [0, -800, 1002, 400], \n",
    "                    [0, 0, 400, 200]])"
   ]
  },
  {
   "cell_type": "markdown",
   "id": "058663f9-0c23-4dab-982b-94479405de8a",
   "metadata": {},
   "source": [
    "1). The function used to perform a Cholesky factorization in python will be linalg.cholesky() in my case"
   ]
  },
  {
   "cell_type": "markdown",
   "id": "44e21442-ec18-4b9b-b40d-e20ed27931a4",
   "metadata": {},
   "source": [
    "Question 2)."
   ]
  },
  {
   "cell_type": "code",
   "execution_count": 7,
   "id": "f99fb587-b051-47d7-881a-8e78f53a831b",
   "metadata": {},
   "outputs": [
    {
     "name": "stdout",
     "output_type": "stream",
     "text": [
      "[[100.0099995    0.           0.           0.        ]\n",
      " [-11.99880018  72.51226651   0.           0.        ]\n",
      " [  0.         -11.03261611  29.66953626   0.        ]\n",
      " [  0.           0.          13.481842     4.27082384]]\n"
     ]
    }
   ],
   "source": [
    "L = linalg.cholesky(grad_sq_f, lower = True)\n",
    "print(L)"
   ]
  },
  {
   "cell_type": "markdown",
   "id": "a5e76313-40a7-42d9-a706-eee5c93ab279",
   "metadata": {},
   "source": [
    "Question 3). To solve a linear system of equations in python, you can use linalg.solve()"
   ]
  },
  {
   "cell_type": "markdown",
   "id": "7f77fa62-1911-46c7-9c7d-629133f03052",
   "metadata": {},
   "source": [
    "Question 4)."
   ]
  },
  {
   "cell_type": "code",
   "execution_count": 9,
   "id": "c6faea5e-2180-4450-9e76-f1df71e36bac",
   "metadata": {},
   "outputs": [
    {
     "name": "stdout",
     "output_type": "stream",
     "text": [
      "Search direction:  [ -0.81922124   0.17512427   5.66385849 -11.32771698]\n"
     ]
    }
   ],
   "source": [
    "y = linalg.solve(L, -grad_f)\n",
    "pk = linalg.solve(L.T, y)\n",
    "print(\"Search direction: \", pk)"
   ]
  }
 ],
 "metadata": {
  "kernelspec": {
   "display_name": "Python 3 (ipykernel)",
   "language": "python",
   "name": "python3"
  },
  "language_info": {
   "codemirror_mode": {
    "name": "ipython",
    "version": 3
   },
   "file_extension": ".py",
   "mimetype": "text/x-python",
   "name": "python",
   "nbconvert_exporter": "python",
   "pygments_lexer": "ipython3",
   "version": "3.11.7"
  }
 },
 "nbformat": 4,
 "nbformat_minor": 5
}
