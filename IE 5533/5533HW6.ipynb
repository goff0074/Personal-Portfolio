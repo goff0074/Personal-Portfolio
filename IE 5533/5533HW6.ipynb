{
 "cells": [
  {
   "cell_type": "code",
   "execution_count": 74,
   "id": "28a346a8-dff4-4dca-a732-2ed8177671bd",
   "metadata": {},
   "outputs": [],
   "source": [
    "using JuMP\n",
    "using HiGHS\n",
    "using Printf"
   ]
  },
  {
   "cell_type": "code",
   "execution_count": 75,
   "id": "dd2ebfd1-4d20-4cb8-ac4b-bf566d72e0e9",
   "metadata": {},
   "outputs": [
    {
     "data": {
      "text/plain": [
       "A JuMP Model\n",
       "├ solver: HiGHS\n",
       "├ objective_sense: FEASIBILITY_SENSE\n",
       "├ num_variables: 0\n",
       "├ num_constraints: 0\n",
       "└ Names registered in the model: none"
      ]
     },
     "execution_count": 75,
     "metadata": {},
     "output_type": "execute_result"
    }
   ],
   "source": [
    "model = Model(HiGHS.Optimizer)"
   ]
  },
  {
   "cell_type": "code",
   "execution_count": 76,
   "id": "c557a631-d0fb-45e9-82e1-25473f1587b1",
   "metadata": {},
   "outputs": [
    {
     "data": {
      "text/latex": [
       "$ x3d $"
      ],
      "text/plain": [
       "x3d"
      ]
     },
     "execution_count": 76,
     "metadata": {},
     "output_type": "execute_result"
    }
   ],
   "source": [
    "@variable(model, x1s >= 0)  # Crude 1 for Super Gasoline\n",
    "@variable(model, x2s >= 0)  # Crude 2 for Super Gasoline\n",
    "@variable(model, x3s >= 0)  # Crude 3 for Super Gasoline\n",
    "@variable(model, x1r >= 0)  # Crude 1 for Regular Gasoline\n",
    "@variable(model, x2r >= 0)  # Crude 2 for Regular Gasoline\n",
    "@variable(model, x3r >= 0)  # Crude 3 for Regular Gasoline\n",
    "@variable(model, x1d >= 0)  # Crude 1 for Diesel Fuel\n",
    "@variable(model, x2d >= 0)  # Crude 2 for Diesel Fuel\n",
    "@variable(model, x3d >= 0)  # Crude 3 for Diesel Fuel"
   ]
  },
  {
   "cell_type": "code",
   "execution_count": 77,
   "id": "59de18ce-6831-4aff-83ca-b88b9b87c256",
   "metadata": {},
   "outputs": [
    {
     "data": {
      "text/latex": [
       "$ total\\_iron\\_d $"
      ],
      "text/plain": [
       "total_iron_d"
      ]
     },
     "execution_count": 77,
     "metadata": {},
     "output_type": "execute_result"
    }
   ],
   "source": [
    "#total octane and iron\n",
    "@variable(model, total_octane_s >= 0)\n",
    "@variable(model, total_octane_r >= 0)\n",
    "@variable(model, total_octane_d >= 0)\n",
    "@variable(model, total_iron_s >= 0)\n",
    "@variable(model, total_iron_r >= 0)\n",
    "@variable(model, total_iron_d >= 0)"
   ]
  },
  {
   "cell_type": "code",
   "execution_count": 78,
   "id": "d37f0ce2-996e-4917-bf85-cf487b2e6076",
   "metadata": {},
   "outputs": [
    {
     "data": {
      "text/latex": [
       "$ 25 x1s + 35 x2s + 45 x3s + 15 x1r + 25 x2r + 35 x3r + 5 x1d + 15 x2d + 25 x3d $"
      ],
      "text/plain": [
       "25 x1s + 35 x2s + 45 x3s + 15 x1r + 25 x2r + 35 x3r + 5 x1d + 15 x2d + 25 x3d"
      ]
     },
     "execution_count": 78,
     "metadata": {},
     "output_type": "execute_result"
    }
   ],
   "source": [
    "#objective\n",
    "@objective(model, Max, 70 * (x1s + x2s + x3s) + 60 * (x1r + x2r + x3r) + 50 * (x1d + x2d + x3d) - 45 * (x1s + x1r + x1d) - 35 * (x2s + x2r + x2d) - 25 * (x3s + x3r + x3d))"
   ]
  },
  {
   "cell_type": "code",
   "execution_count": 79,
   "id": "6b27a79a-c651-40a0-a905-e0d4cfd889b1",
   "metadata": {},
   "outputs": [
    {
     "data": {
      "text/latex": [
       "$$ -12 x1d - 6 x2d - 8 x3d + total\\_octane\\_d = 0 $$"
      ],
      "text/plain": [
       "-12 x1d - 6 x2d - 8 x3d + total_octane_d = 0"
      ]
     },
     "execution_count": 79,
     "metadata": {},
     "output_type": "execute_result"
    }
   ],
   "source": [
    "#total octane constraints\n",
    "@constraint(model, total_octane_s == 12 * x1s + 6 * x2s + 8 * x3s)\n",
    "@constraint(model, total_octane_r == 12 * x1r + 6 * x2r + 8 * x3r)\n",
    "@constraint(model, total_octane_d == 12 * x1d + 6 * x2d + 8 * x3d)"
   ]
  },
  {
   "cell_type": "code",
   "execution_count": 80,
   "id": "4f91feb4-f98b-49b9-b11d-8954dfb0e71a",
   "metadata": {},
   "outputs": [
    {
     "data": {
      "text/latex": [
       "$$ -0.5 x1d - 2 x2d - 3 x3d + total\\_iron\\_d = 0 $$"
      ],
      "text/plain": [
       "-0.5 x1d - 2 x2d - 3 x3d + total_iron_d = 0"
      ]
     },
     "execution_count": 80,
     "metadata": {},
     "output_type": "execute_result"
    }
   ],
   "source": [
    "@constraint(model, total_iron_s == 0.5 * x1s + 2.0 * x2s + 3.0 * x3s)\n",
    "@constraint(model, total_iron_r == 0.5 * x1r + 2.0 * x2r + 3.0 * x3r)\n",
    "@constraint(model, total_iron_d == 0.5 * x1d + 2.0 * x2d + 3.0 * x3d)"
   ]
  },
  {
   "cell_type": "code",
   "execution_count": 81,
   "id": "69159557-ca46-4327-8dc9-343e58faadc6",
   "metadata": {},
   "outputs": [
    {
     "data": {
      "text/latex": [
       "$$ -6 x1d - 6 x2d - 6 x3d + total\\_octane\\_d \\geq 0 $$"
      ],
      "text/plain": [
       "-6 x1d - 6 x2d - 6 x3d + total_octane_d ≥ 0"
      ]
     },
     "execution_count": 81,
     "metadata": {},
     "output_type": "execute_result"
    }
   ],
   "source": [
    "@constraint(model, total_octane_s >= 10 * (x1s + x2s + x3s))\n",
    "@constraint(model, total_octane_r >= 8 * (x1r + x2r + x3r))\n",
    "@constraint(model, total_octane_d >= 6 * (x1d + x2d + x3d))"
   ]
  },
  {
   "cell_type": "code",
   "execution_count": 82,
   "id": "d4092e16-79fa-4f3e-a561-8576b890a47d",
   "metadata": {},
   "outputs": [
    {
     "data": {
      "text/latex": [
       "$$ -x1d - x2d - x3d + total\\_iron\\_d \\leq 0 $$"
      ],
      "text/plain": [
       "-x1d - x2d - x3d + total_iron_d ≤ 0"
      ]
     },
     "execution_count": 82,
     "metadata": {},
     "output_type": "execute_result"
    }
   ],
   "source": [
    "@constraint(model, total_iron_s <= 1 * (x1s + x2s + x3s))\n",
    "@constraint(model, total_iron_r <= 2 * (x1r + x2r + x3r))\n",
    "@constraint(model, total_iron_d <= 1 * (x1d + x2d + x3d))"
   ]
  },
  {
   "cell_type": "code",
   "execution_count": 83,
   "id": "7f9fcb9a-2604-4345-8e48-531f6fd9f5cd",
   "metadata": {},
   "outputs": [
    {
     "data": {
      "text/latex": [
       "$$ x3s + x3r + x3d \\leq 5000 $$"
      ],
      "text/plain": [
       "x3s + x3r + x3d ≤ 5000"
      ]
     },
     "execution_count": 83,
     "metadata": {},
     "output_type": "execute_result"
    }
   ],
   "source": [
    "@constraint(model, x1s + x1r + x1d <= 5000)  # Crude 1 limit\n",
    "@constraint(model, x2s + x2r + x2d <= 5000)  # Crude 2 limit\n",
    "@constraint(model, x3s + x3r + x3d <= 5000)  # Crude 3 limit"
   ]
  },
  {
   "cell_type": "code",
   "execution_count": 84,
   "id": "c692ef44-f40b-415c-973f-e8750d5efb27",
   "metadata": {},
   "outputs": [
    {
     "data": {
      "text/latex": [
       "$$ x1s + x2s + x3s + x1r + x2r + x3r + x1d + x2d + x3d \\leq 14000 $$"
      ],
      "text/plain": [
       "x1s + x2s + x3s + x1r + x2r + x3r + x1d + x2d + x3d ≤ 14000"
      ]
     },
     "execution_count": 84,
     "metadata": {},
     "output_type": "execute_result"
    }
   ],
   "source": [
    "@constraint(model, x1s + x2s + x3s + x1r + x2r + x3r + x1d + x2d + x3d <= 14000)"
   ]
  },
  {
   "cell_type": "code",
   "execution_count": 85,
   "id": "fa320568-3b22-474b-8ff3-123ef2eb3992",
   "metadata": {},
   "outputs": [
    {
     "name": "stdout",
     "output_type": "stream",
     "text": [
      "Running HiGHS 1.8.0 (git hash: fcfb53414): Copyright (c) 2024 HiGHS under MIT licence terms\n",
      "Coefficient ranges:\n",
      "  Matrix [5e-01, 1e+01]\n",
      "  Cost   [5e+00, 4e+01]\n",
      "  Bound  [0e+00, 0e+00]\n",
      "  RHS    [5e+03, 1e+04]\n",
      "Presolving model\n",
      "16 rows, 15 cols, 66 nonzeros  0s\n",
      "10 rows, 9 cols, 33 nonzeros  0s\n",
      "9 rows, 9 cols, 31 nonzeros  0s\n",
      "Presolve : Reductions: rows 9(-7); columns 9(-6); elements 31(-35)\n",
      "Solving the presolved LP\n",
      "Using EKK dual simplex solver - serial\n",
      "  Iteration        Objective     Infeasibilities num(sum)\n",
      "          0    -2.2499983049e+02 Ph1: 8(28); Du: 9(225) 0s\n",
      "          6    -3.7500000000e+05 Pr: 0(0) 0s\n",
      "Solving the original LP from the solution after postsolve\n",
      "Model   status      : Optimal\n",
      "Simplex   iterations: 6\n",
      "Objective value     :  3.7500000000e+05\n",
      "HiGHS run time      :          0.04\n",
      "Optimal solution found:\n",
      "Super Gasoline: Crude 1 = 2000.0, Crude 2 = 0.0, Crude 3 = 500.0\n",
      "Regular Gasoline: Crude 1 = 3000.0, Crude 2 = 4000.0, Crude 3 = 4500.0\n",
      "Diesel Fuel: Crude 1 = 0.0, Crude 2 = 0.0, Crude 3 = 0.0\n",
      "Optimal profit: $375000.0\n"
     ]
    }
   ],
   "source": [
    "optimize!(model)\n",
    "println(\"Optimal solution found:\")\n",
    "println(\"Super Gasoline: Crude 1 = \", value(x1s), \", Crude 2 = \", value(x2s), \", Crude 3 = \", value(x3s))\n",
    "println(\"Regular Gasoline: Crude 1 = \", value(x1r), \", Crude 2 = \", value(x2r), \", Crude 3 = \", value(x3r))\n",
    "println(\"Diesel Fuel: Crude 1 = \", value(x1d), \", Crude 2 = \", value(x2d), \", Crude 3 = \", value(x3d))\n",
    "println(\"Optimal profit: \\$\", objective_value(model))"
   ]
  },
  {
   "cell_type": "code",
   "execution_count": 86,
   "id": "69f628a8-8103-4edb-81fd-656799a3e6c5",
   "metadata": {},
   "outputs": [
    {
     "data": {
      "text/latex": [
       "$$ x1d + x2d + x3d \\leq 1000 $$"
      ],
      "text/plain": [
       "x1d + x2d + x3d ≤ 1000"
      ]
     },
     "execution_count": 86,
     "metadata": {},
     "output_type": "execute_result"
    }
   ],
   "source": [
    "@constraint(model, x1s + x2s + x3s <= 3000)  # Super Gasoline demand\n",
    "@constraint(model, x1r + x2r + x3r <= 2000)  # Regular Gasoline demand\n",
    "@constraint(model, x1d + x2d + x3d <= 1000)  # Diesel Fuel demand"
   ]
  },
  {
   "cell_type": "code",
   "execution_count": 87,
   "id": "1541ae81-0121-4286-a0bf-81a32c7a6401",
   "metadata": {},
   "outputs": [
    {
     "name": "stdout",
     "output_type": "stream",
     "text": [
      "Coefficient ranges:\n",
      "  Matrix [5e-01, 1e+01]\n",
      "  Cost   [5e+00, 4e+01]\n",
      "  Bound  [0e+00, 0e+00]\n",
      "  RHS    [1e+03, 1e+04]\n",
      "Solving LP without presolve, or with basis, or unconstrained\n",
      "Using EKK dual simplex solver - serial\n",
      "  Iteration        Objective     Infeasibilities num(sum)\n",
      "          0     3.7499605377e+05 Pr: 1(19000) 0s\n",
      "          7     1.5000000000e+05 Pr: 0(0) 0s\n",
      "Model   status      : Optimal\n",
      "Simplex   iterations: 7\n",
      "Objective value     :  1.5000000000e+05\n",
      "HiGHS run time      :          0.00\n",
      "Optimal solution found:\n",
      "Super Gasoline: Crude 1 = 2400.00, Crude 2 = 0.00, Crude 3 = 600.00\n",
      "Regular Gasoline: Crude 1 = 800.00, Crude 2 = 0.00, Crude 3 = 1200.00\n",
      "Diesel Fuel: Crude 1 = 800.00, Crude 2 = 0.00, Crude 3 = 200.00\n",
      "Optimal profit: $150000.00\n"
     ]
    }
   ],
   "source": [
    "optimize!(model)\n",
    "\n",
    "# Print the results\n",
    "println(\"Optimal solution found:\")\n",
    "println(\"Super Gasoline: Crude 1 = \", @sprintf(\"%.2f\", value(x1s)), \", Crude 2 = \", @sprintf(\"%.2f\", value(x2s)), \", Crude 3 = \", @sprintf(\"%.2f\", value(x3s)))\n",
    "println(\"Regular Gasoline: Crude 1 = \", @sprintf(\"%.2f\", value(x1r)), \", Crude 2 = \", @sprintf(\"%.2f\", value(x2r)), \", Crude 3 = \", @sprintf(\"%.2f\", value(x3r)))\n",
    "println(\"Diesel Fuel: Crude 1 = \", @sprintf(\"%.2f\", value(x1d)), \", Crude 2 = \", @sprintf(\"%.2f\", value(x2d)), \", Crude 3 = \", @sprintf(\"%.2f\", value(x3d)))\n",
    "println(\"Optimal profit: \\$\", @sprintf(\"%.2f\", objective_value(model)))"
   ]
  },
  {
   "cell_type": "code",
   "execution_count": 98,
   "id": "39d292aa-18ab-4bd7-ab83-b73a58d35d65",
   "metadata": {},
   "outputs": [
    {
     "data": {
      "text/latex": [
       "$$ x1d + x2d + x3d \\leq 1000 $$"
      ],
      "text/plain": [
       "x1d + x2d + x3d ≤ 1000"
      ]
     },
     "execution_count": 98,
     "metadata": {},
     "output_type": "execute_result"
    }
   ],
   "source": [
    "@constraint(model, x1s + x2s + x3s <= 4500)  # Super Gasoline demand (updated\n",
    "@constraint(model, x1r + x2r + x3r <= 2000)  # Regular Gasoline demand\n",
    "@constraint(model, x1d + x2d + x3d <= 1000)  # Diesel Fuel demand"
   ]
  },
  {
   "cell_type": "code",
   "execution_count": 99,
   "id": "50231960-cd0f-4459-8718-d8dbcef0453f",
   "metadata": {},
   "outputs": [
    {
     "name": "stdout",
     "output_type": "stream",
     "text": [
      "This is Ipopt version 3.14.16, running with linear solver MUMPS 5.7.3.\n",
      "\n",
      "Number of nonzeros in equality constraint Jacobian...:        0\n",
      "Number of nonzeros in inequality constraint Jacobian.:       45\n",
      "Number of nonzeros in Lagrangian Hessian.............:       36\n",
      "\n",
      "Total number of variables............................:        9\n",
      "                     variables with only lower bounds:        9\n",
      "                variables with lower and upper bounds:        0\n",
      "                     variables with only upper bounds:        0\n",
      "Total number of equality constraints.................:        0\n",
      "Total number of inequality constraints...............:       15\n",
      "        inequality constraints with only lower bounds:        3\n",
      "   inequality constraints with lower and upper bounds:        0\n",
      "        inequality constraints with only upper bounds:       12\n",
      "\n",
      "iter    objective    inf_pr   inf_du lg(mu)  ||d||  lg(rg) alpha_du alpha_pr  ls\n",
      "   0  2.2499977e+00 1.33e+00 1.12e+01  -1.0 0.00e+00    -  0.00e+00 0.00e+00   0\n",
      "   1  8.3296655e+00 1.31e+00 1.04e+01  -1.0 2.49e+00    -  1.84e-02 6.64e-02f  1\n",
      "   2  1.2858090e+01 1.30e+00 1.04e+01  -1.0 7.41e+01    -  1.95e-03 2.07e-03f  1\n",
      "   3  2.9699904e+01 1.28e+00 1.02e+01  -1.0 9.98e+00   0.0 2.76e-02 3.89e-02f  1\n",
      "   4  6.6265773e+01 1.27e+00 1.01e+01  -1.0 3.52e+01  -0.5 2.24e-02 1.97e-02f  1\n",
      "   5  7.1049808e+02 1.13e+00 8.64e+01  -1.0 1.08e+01  -0.1 8.86e-02 1.00e+00f  1\n",
      "   6  7.1427172e+02 1.13e+00 8.61e+01  -1.0 1.44e+02  -0.5 2.31e-03 1.30e-03f  1\n",
      "   7  7.6616223e+02 1.02e+00 1.33e+01  -1.0 1.21e+01  -0.1 5.03e-01 7.94e-02f  1\n",
      "   8  1.4208449e+03 5.75e-01 1.55e+01  -1.0 3.61e+01  -0.6 2.70e-01 3.23e-01f  1\n",
      "   9  2.0567381e+03 1.93e-01 1.10e+01  -1.0 1.56e+01  -0.2 9.88e-01 1.00e+00f  1\n",
      "iter    objective    inf_pr   inf_du lg(mu)  ||d||  lg(rg) alpha_du alpha_pr  ls\n",
      "  10  3.3653045e+03 1.16e-01 4.14e+01  -1.0 3.80e+01  -0.6 5.54e-01 6.51e-01f  1\n",
      "  11  6.2980844e+03 8.57e-02 1.89e+02  -1.0 1.13e+02  -1.1 6.40e-01 4.80e-01f  1\n",
      "  12  1.3539073e+04 6.99e-02 2.53e+02  -1.0 3.40e+02  -1.6 2.94e-01 3.94e-01f  1\n",
      "  13  3.1245503e+04 6.02e-02 6.70e+02  -1.0 1.02e+03  -2.1 2.79e-01 3.21e-01f  1\n",
      "  14  6.0571841e+04 5.47e-02 5.02e+02  -1.0 3.06e+03  -2.5 2.07e-01 1.78e-01f  1\n",
      "  15  9.4272626e+04 5.47e-02 2.81e+03  -1.0 1.04e+08    -  7.59e-06 1.02e-05f  1\n",
      "  16  1.4784975e+05 5.47e-02 3.21e+03  -1.0 5.27e+07    -  3.98e-05 3.03e-05f  1\n",
      "  17  1.6725402e+05 5.47e-02 2.71e+03  -1.0 1.02e+07    -  4.24e-05 4.64e-05f  1\n",
      "  18  1.7245005e+05 5.47e-02 2.72e+03  -1.0 6.83e+06    -  2.93e-05 2.92e-05f  1\n",
      "  19  1.8964896e+05 5.47e-02 3.84e+03  -1.0 4.65e+06    -  2.04e-04 1.46e-04f  1\n",
      "iter    objective    inf_pr   inf_du lg(mu)  ||d||  lg(rg) alpha_du alpha_pr  ls\n",
      "  20  1.9140749e+05 5.47e-02 3.86e+03  -1.0 3.01e+05    -  4.54e-04 2.75e-04f  1\n",
      "  21  1.9270826e+05 5.46e-02 3.86e+03  -1.0 2.84e+06    -  7.55e-05 2.10e-04f  1\n",
      "  22  1.9272171e+05 5.46e-02 3.85e+03  -1.0 1.46e+06    -  4.44e-04 4.09e-06f  1\n",
      "  23  1.9343017e+05 5.46e-02 3.86e+03  -1.0 1.65e+05    -  1.53e-06 1.19e-03f  1\n",
      "  24  1.9512883e+05 5.45e-02 3.86e+03  -1.0 1.14e+06    -  5.18e-04 7.38e-04f  1\n",
      "  25  1.9515076e+05 5.45e-02 2.61e+03  -1.0 7.13e+03    -  4.22e-01 1.16e-03f  1\n",
      "  26  1.9400211e+05 3.08e-02 4.88e+03  -1.0 3.09e+02    -  9.55e-01 4.34e-01h  1\n",
      "  27  1.9249900e+05 0.00e+00 3.58e-02  -1.0 1.50e+02    -  1.00e+00 1.00e+00h  1\n",
      "  28  1.9250000e+05 0.00e+00 5.58e-05  -3.8 2.39e-01    -  1.00e+00 1.00e+00f  1\n",
      "  29  1.9250000e+05 0.00e+00 1.96e-13  -8.6 1.75e-03    -  1.00e+00 1.00e+00f  1\n",
      "\n",
      "Number of Iterations....: 29\n",
      "\n",
      "                                   (scaled)                 (unscaled)\n",
      "Objective...............:  -1.9250000267497494e+05    1.9250000267497494e+05\n",
      "Dual infeasibility......:   1.9622635705772246e-13    1.9622635705772246e-13\n",
      "Constraint violation....:   0.0000000000000000e+00    0.0000000000000000e+00\n",
      "Variable bound violation:   0.0000000000000000e+00    0.0000000000000000e+00\n",
      "Complementarity.........:   3.6534712538197602e-09    3.6534712538197602e-09\n",
      "Overall NLP error.......:   1.1681762485381098e-10    3.6534712538197602e-09\n",
      "\n",
      "\n",
      "Number of objective function evaluations             = 30\n",
      "Number of objective gradient evaluations             = 30\n",
      "Number of equality constraint evaluations            = 0\n",
      "Number of inequality constraint evaluations          = 30\n",
      "Number of equality constraint Jacobian evaluations   = 0\n",
      "Number of inequality constraint Jacobian evaluations = 30\n",
      "Number of Lagrangian Hessian evaluations             = 29\n",
      "Total seconds in IPOPT                               = 0.030\n",
      "\n",
      "EXIT: Optimal Solution Found.\n",
      "Optimal solution found:\n",
      "Super Gasoline: Crude 1 = 3489.57, Crude 2 = 276.07, Crude 3 = 734.36\n",
      "Regular Gasoline: Crude 1 = 713.52, Crude 2 = 216.19, Crude 3 = 1070.28\n",
      "Diesel Fuel: Crude 1 = 796.91, Crude 2 = 7.73, Crude 3 = 195.36\n",
      "Optimal profit: $192500.00\n"
     ]
    }
   ],
   "source": [
    "optimize!(model)\n",
    "\n",
    "# Print the results\n",
    "println(\"Optimal solution found:\")\n",
    "println(\"Super Gasoline: Crude 1 = \", @sprintf(\"%.2f\", value(x1s)), \", Crude 2 = \", @sprintf(\"%.2f\", value(x2s)), \", Crude 3 = \", @sprintf(\"%.2f\", value(x3s)))\n",
    "println(\"Regular Gasoline: Crude 1 = \", @sprintf(\"%.2f\", value(x1r)), \", Crude 2 = \", @sprintf(\"%.2f\", value(x2r)), \", Crude 3 = \", @sprintf(\"%.2f\", value(x3r)))\n",
    "println(\"Diesel Fuel: Crude 1 = \", @sprintf(\"%.2f\", value(x1d)), \", Crude 2 = \", @sprintf(\"%.2f\", value(x2d)), \", Crude 3 = \", @sprintf(\"%.2f\", value(x3d)))\n",
    "println(\"Optimal profit: \\$\", @sprintf(\"%.2f\", objective_value(model)))"
   ]
  },
  {
   "cell_type": "code",
   "execution_count": 97,
   "id": "25de6d78-4695-40c1-a28a-a1031415dbfc",
   "metadata": {},
   "outputs": [
    {
     "name": "stdout",
     "output_type": "stream",
     "text": [
      "This is Ipopt version 3.14.16, running with linear solver MUMPS 5.7.3.\n",
      "\n",
      "Number of nonzeros in equality constraint Jacobian...:        0\n",
      "Number of nonzeros in inequality constraint Jacobian.:       36\n",
      "Number of nonzeros in Lagrangian Hessian.............:       36\n",
      "\n",
      "Total number of variables............................:        9\n",
      "                     variables with only lower bounds:        9\n",
      "                variables with lower and upper bounds:        0\n",
      "                     variables with only upper bounds:        0\n",
      "Total number of equality constraints.................:        0\n",
      "Total number of inequality constraints...............:       12\n",
      "        inequality constraints with only lower bounds:        3\n",
      "   inequality constraints with lower and upper bounds:        0\n",
      "        inequality constraints with only upper bounds:        9\n",
      "\n",
      "iter    objective    inf_pr   inf_du lg(mu)  ||d||  lg(rg) alpha_du alpha_pr  ls\n",
      "   0  2.2499977e+00 1.33e+00 1.78e+01  -1.0 0.00e+00    -  0.00e+00 0.00e+00   0\n",
      "   1  8.3296178e+00 1.31e+00 1.66e+01  -1.0 2.49e+00    -  1.84e-02 6.64e-02f  1\n",
      "   2  1.2856654e+01 1.30e+00 1.65e+01  -1.0 7.42e+01    -  1.95e-03 2.07e-03f  1\n",
      "   3  3.3195439e+01 1.28e+00 1.62e+01  -1.0 1.63e+01   0.0 2.40e-02 3.31e-02f  1\n",
      "   4  6.7024217e+01 1.27e+00 1.61e+01  -1.0 6.90e+01  -0.5 1.20e-02 1.11e-02f  1\n",
      "   5  1.0348624e+03 1.20e+00 1.33e+02  -1.0 1.63e+01  -0.1 7.20e-02 1.00e+00f  1\n",
      "   6  1.1190283e+03 1.13e+00 4.49e+01  -1.0 5.34e+01  -0.5 1.95e-01 2.90e-02f  1\n",
      "   7  2.0785583e+03 7.16e-01 7.71e+01  -1.0 1.74e+02  -1.0 7.62e-02 1.08e-01f  1\n",
      "   8  4.7464775e+03 6.80e-01 1.61e+02  -1.0 4.14e+02  -1.5 8.51e-02 1.12e-01f  1\n",
      "   9  9.6106218e+03 6.57e-01 3.30e+02  -1.0 1.23e+03  -2.0 5.09e-02 6.85e-02f  1\n",
      "iter    objective    inf_pr   inf_du lg(mu)  ||d||  lg(rg) alpha_du alpha_pr  ls\n",
      "  10  1.8765669e+04 6.42e-01 1.18e+02  -1.0 3.70e+03  -2.4 5.78e-02 4.37e-02f  1\n",
      "  11  4.6610832e+04 6.30e-01 1.34e+03  -1.0 1.07e+04  -2.9 3.11e-02 4.76e-02f  1\n",
      "  12  8.9320452e+04 6.84e-01 2.56e+03  -1.0 2.80e+04  -3.4 4.79e-02 3.13e-02f  1\n",
      "  13  9.3754433e+04 6.20e-01 2.30e+03  -1.0 3.29e+05    -  1.02e-03 1.38e-03f  1\n",
      "  14  9.4295071e+04 6.20e-01 3.36e+04  -1.0 7.50e+04    -  5.10e-02 1.89e-04f  1\n",
      "  15  9.4297020e+04 6.18e-01 3.37e+04  -1.0 5.41e+02  -1.2 4.83e-03 1.98e-03f  1\n",
      "  16  9.4294169e+04 6.18e-01 5.92e+04  -1.0 4.47e+02   1.1 2.04e-03 2.74e-04h  1\n",
      "  17  9.4289296e+04 6.18e-01 3.42e+05  -1.0 4.54e+02   0.6 5.97e-02 4.87e-04h  1\n",
      "  18  1.9916097e+05 1.06e+00 3.16e+05  -1.0 3.31e+04    -  9.78e-02 7.93e-02f  1\n",
      "  19  1.9978808e+05 5.08e-01 2.92e+05  -1.0 4.11e+03    -  7.81e-02 1.50e-01f  1\n",
      "iter    objective    inf_pr   inf_du lg(mu)  ||d||  lg(rg) alpha_du alpha_pr  ls\n",
      "  20  1.9851969e+05 4.16e-01 2.22e+05  -1.0 4.84e+03    -  2.38e-01 1.81e-01h  1\n",
      "  21  1.9851083e+05 4.16e-01 1.77e+05  -1.0 4.65e+03    -  1.97e-01 1.88e-03h  1\n",
      "  22  1.9850968e+05 4.16e-01 1.79e+05  -1.0 7.48e+02   0.1 5.09e-04 6.50e-05h  2\n",
      "  23  1.9850935e+05 4.16e-01 1.79e+05  -1.0 6.08e+03  -0.4 4.50e-05 1.46e-05h  2\n",
      "  24  1.9847473e+05 4.15e-01 3.00e+05  -1.0 7.48e+02  -0.8 2.14e-01 2.49e-03h  1\n",
      "  25  1.9648652e+05 3.56e-01 6.70e+04  -1.0 7.46e+02    -  7.51e-01 1.42e-01h  1\n",
      "  26  1.8548605e+05 2.92e-02 5.10e+04  -1.0 6.40e+02    -  3.39e-01 9.18e-01h  1\n",
      "  27  1.8534529e+05 6.19e-02 4.35e+04  -1.0 5.26e+01  -0.4 1.42e-01 1.44e-01H  1\n",
      "  28  1.8529620e+05 6.13e-02 4.37e+04  -1.0 4.83e+01    -  1.81e-02 6.47e-02h  1\n",
      "  29  1.8604232e+05 6.12e-02 4.70e+04  -1.0 5.94e+02    -  1.36e-03 1.69e-01f  1\n",
      "iter    objective    inf_pr   inf_du lg(mu)  ||d||  lg(rg) alpha_du alpha_pr  ls\n",
      "  30  1.8603892e+05 6.24e-02 1.95e+04  -1.0 4.32e+01  -0.9 9.07e-01 1.05e-02h  1\n",
      "  31  1.8686960e+05 6.23e-02 1.94e+04  -1.0 7.98e+04    -  1.26e-03 1.19e-03f  1\n",
      "  32  1.9161948e+05 6.22e-02 1.94e+04  -1.0 7.54e+04    -  3.03e-03 7.21e-03f  1\n",
      "  33  1.9385605e+05 6.16e-02 1.23e+05  -1.0 1.95e+04    -  5.91e-01 1.32e-02f  1\n",
      "  34  1.9327916e+05 4.03e-02 1.19e+05  -1.0 7.37e+01    -  6.45e-03 3.38e-01h  1\n",
      "  35  1.9339461e+05 3.89e-02 1.18e+05  -1.0 1.64e+03    -  2.57e-03 3.45e-02f  1\n",
      "  36  1.9336241e+05 3.75e-02 1.46e+04  -1.0 1.27e+02    -  9.89e-01 3.75e-02h  1\n",
      "  37  1.9249930e+05 0.00e+00 6.72e+02  -1.0 1.01e+02    -  5.24e-01 1.00e+00h  1\n",
      "  38  1.9249930e+05 0.00e+00 2.12e+01  -1.0 4.22e+01    -  9.69e-01 1.00e+00f  1\n",
      "  39  1.9249986e+05 0.00e+00 5.58e+00  -1.7 1.26e+02    -  7.19e-01 1.00e+00f  1\n",
      "iter    objective    inf_pr   inf_du lg(mu)  ||d||  lg(rg) alpha_du alpha_pr  ls\n",
      "  40  1.9249998e+05 0.00e+00 6.53e-07  -2.5 4.06e+01    -  1.00e+00 1.00e+00f  1\n",
      "  41  1.9250000e+05 0.00e+00 1.69e-10  -5.7 6.14e-02    -  1.00e+00 1.00e+00f  1\n",
      "  42  1.9250000e+05 0.00e+00 1.55e-13  -8.6 9.02e-02    -  1.00e+00 1.00e+00h  1\n",
      "\n",
      "Number of Iterations....: 42\n",
      "\n",
      "                                   (scaled)                 (unscaled)\n",
      "Objective...............:  -1.9250000267498248e+05    1.9250000267498248e+05\n",
      "Dual infeasibility......:   1.5453743225333232e-13    1.5453743225333232e-13\n",
      "Constraint violation....:   0.0000000000000000e+00    0.0000000000000000e+00\n",
      "Variable bound violation:   0.0000000000000000e+00    0.0000000000000000e+00\n",
      "Complementarity.........:   4.0796942721207254e-09    4.0796942721207254e-09\n",
      "Overall NLP error.......:   1.1414012637652533e-10    4.0796942721207254e-09\n",
      "\n",
      "\n",
      "Number of objective function evaluations             = 48\n",
      "Number of objective gradient evaluations             = 43\n",
      "Number of equality constraint evaluations            = 0\n",
      "Number of inequality constraint evaluations          = 48\n",
      "Number of equality constraint Jacobian evaluations   = 0\n",
      "Number of inequality constraint Jacobian evaluations = 43\n",
      "Number of Lagrangian Hessian evaluations             = 42\n",
      "Total seconds in IPOPT                               = 0.055\n",
      "\n",
      "EXIT: Optimal Solution Found.\n",
      "Super Gasoline: Crude 1 = 3538.739174673777, Crude 2 = 153.15210831560518, Crude 3 = 808.1087620105168\n",
      "Regular Gasoline: Crude 1 = 735.6093175875087, Crude 2 = 160.97670603137828, Crude 3 = 1103.4139963810128\n",
      "Diesel Fuel: Crude 1 = 725.6515577382124, Crude 2 = 185.87111565371706, Crude 3 = 88.47733660756934\n"
     ]
    },
    {
     "ename": "LoadError",
     "evalue": "ParseError:\n\u001b[90m# Error @ \u001b[0;0m\u001b]8;;file:///Users/benjamingoff/Desktop/5533/In[97]#51:27\u001b\\\u001b[90mIn[97]:51:27\u001b[0;0m\u001b]8;;\u001b\\\nprintln(\"Diesel Fuel: Crude 1 = \", value(x1d), \", Crude 2 = \", value(x2d), \", Crude 3 = \", value(x3d))\nprintln(\"Optimal profit: $\u001b[48;2;120;70;70m\u001b[0;0m\", objective_value(model))\n\u001b[90m#                         └ ── \u001b[0;0m\u001b[91midentifier or parenthesized expression expected after $ in string\u001b[0;0m",
     "output_type": "error",
     "traceback": [
      "ParseError:\n\u001b[90m# Error @ \u001b[0;0m\u001b]8;;file:///Users/benjamingoff/Desktop/5533/In[97]#51:27\u001b\\\u001b[90mIn[97]:51:27\u001b[0;0m\u001b]8;;\u001b\\\nprintln(\"Diesel Fuel: Crude 1 = \", value(x1d), \", Crude 2 = \", value(x2d), \", Crude 3 = \", value(x3d))\nprintln(\"Optimal profit: $\u001b[48;2;120;70;70m\u001b[0;0m\", objective_value(model))\n\u001b[90m#                         └ ── \u001b[0;0m\u001b[91midentifier or parenthesized expression expected after $ in string\u001b[0;0m",
      "",
      "Stacktrace:",
      " [1] top-level scope",
      "   @ In[97]:51"
     ]
    }
   ],
   "source": [
    "using JuMP\n",
    "using Ipopt\n",
    "\n",
    "# Define the model\n",
    "model = Model(Ipopt.Optimizer)\n",
    "\n",
    "# Define the decision variables for the barrels of each crude oil for each product\n",
    "@variable(model, x1s >= 0)  # Crude 1 for Super Gasoline\n",
    "@variable(model, x2s >= 0)  # Crude 2 for Super Gasoline\n",
    "@variable(model, x3s >= 0)  # Crude 3 for Super Gasoline\n",
    "\n",
    "@variable(model, x1r >= 0)  # Crude 1 for Regular Gasoline\n",
    "@variable(model, x2r >= 0)  # Crude 2 for Regular Gasoline\n",
    "@variable(model, x3r >= 0)  # Crude 3 for Regular Gasoline\n",
    "\n",
    "@variable(model, x1d >= 0)  # Crude 1 for Diesel Fuel\n",
    "@variable(model, x2d >= 0)  # Crude 2 for Diesel Fuel\n",
    "@variable(model, x3d >= 0)  # Crude 3 for Diesel Fuel\n",
    "\n",
    "# Define the objective function (maximize profit)\n",
    "@objective(model, Max, 70 * (x1s + x2s + x3s) + 60 * (x1r + x2r + x3r) + 50 * (x1d + x2d + x3d) -\n",
    "                    (45 * (x1s + x1r + x1d) + 35 * (x2s + x2r + x2d) + 25 * (x3s + x3r + x3d)))\n",
    "\n",
    "# Add the constraints for the octane ratings (nonlinear)\n",
    "@constraint(model, (12 * x1s + 6 * x2s + 8 * x3s) / (x1s + x2s + x3s) >= 10)\n",
    "@constraint(model, (12 * x1r + 6 * x2r + 8 * x3r) / (x1r + x2r + x3r) >= 8)\n",
    "@constraint(model, (12 * x1d + 6 * x2d + 8 * x3d) / (x1d + x2d + x3d) >= 6)\n",
    "\n",
    "# Add the constraints for the iron content (nonlinear)\n",
    "@constraint(model, (0.5 * x1s + 2.0 * x2s + 3.0 * x3s) / (x1s + x2s + x3s) <= 1)\n",
    "@constraint(model, (0.5 * x1r + 2.0 * x2r + 3.0 * x3r) / (x1r + x2r + x3r) <= 2)\n",
    "@constraint(model, (0.5 * x1d + 2.0 * x2d + 3.0 * x3d) / (x1d + x2d + x3d) <= 1)\n",
    "\n",
    "# Add the constraints for the customer demands (with updated super gasoline demand)\n",
    "@constraint(model, x1s + x2s + x3s <= 4500)  # Super Gasoline demand is now 3500 barrels\n",
    "@constraint(model, x1r + x2r + x3r <= 2000)  # Regular Gasoline demand is 2000 barrels\n",
    "@constraint(model, x1d + x2d + x3d <= 1000)  # Diesel Fuel demand is 1000 barrels\n",
    "\n",
    "# Add the constraints for the crude oil supply limits\n",
    "@constraint(model, x1s + x1r + x1d <= 5000)  # Crude 1 supply limit\n",
    "@constraint(model, x2s + x2r + x2d <= 5000)  # Crude 2 supply limit\n",
    "@constraint(model, x3s + x3r + x3d <= 5000)  # Crude 3 supply limit\n",
    "\n",
    "# Solve the optimization problem\n",
    "optimize!(model)\n",
    "\n",
    "# Display the results\n",
    "println(\"Super Gasoline: Crude 1 = \", value(x1s), \", Crude 2 = \", value(x2s), \", Crude 3 = \", value(x3s))\n",
    "println(\"Regular Gasoline: Crude 1 = \", value(x1r), \", Crude 2 = \", value(x2r), \", Crude 3 = \", value(x3r))\n",
    "println(\"Diesel Fuel: Crude 1 = \", value(x1d), \", Crude 2 = \", value(x2d), \", Crude 3 = \", value(x3d))\n",
    "println(\"Optimal profit: $\", objective_value(model))\n"
   ]
  },
  {
   "cell_type": "code",
   "execution_count": null,
   "id": "fde66341-2595-41de-8699-c111c6940c37",
   "metadata": {},
   "outputs": [],
   "source": []
  }
 ],
 "metadata": {
  "kernelspec": {
   "display_name": "Julia 1.11.1",
   "language": "julia",
   "name": "julia-1.11"
  },
  "language_info": {
   "file_extension": ".jl",
   "mimetype": "application/julia",
   "name": "julia",
   "version": "1.11.1"
  }
 },
 "nbformat": 4,
 "nbformat_minor": 5
}
