{
 "cells": [
  {
   "cell_type": "code",
   "execution_count": 4,
   "id": "a0e9aeec-7ef8-4406-843d-dcd7ae94bad3",
   "metadata": {},
   "outputs": [
    {
     "name": "stdout",
     "output_type": "stream",
     "text": [
      "Running HiGHS 1.8.0 (git hash: fcfb53414): Copyright (c) 2024 HiGHS under MIT licence terms\n",
      "Coefficient ranges:\n",
      "  Matrix [2e-01, 1e+00]\n",
      "  Cost   [4e+00, 6e+00]\n",
      "  Bound  [0e+00, 0e+00]\n",
      "  RHS    [1e+03, 6e+03]\n",
      "Presolving model\n",
      "4 rows, 3 cols, 10 nonzeros  0s\n",
      "4 rows, 3 cols, 10 nonzeros  0s\n",
      "Presolve : Reductions: rows 4(-3); columns 3(-0); elements 10(-3)\n",
      "Solving the presolved LP\n",
      "Using EKK dual simplex solver - serial\n",
      "  Iteration        Objective     Infeasibilities num(sum)\n",
      "          0    -1.5749988028e+01 Ph1: 4(7); Du: 3(15.75) 0s\n",
      "          3    -3.4588440000e+04 Pr: 0(0) 0s\n",
      "Solving the original LP from the solution after postsolve\n",
      "Model   status      : Optimal\n",
      "Simplex   iterations: 3\n",
      "Objective value     :  3.4588440000e+04\n",
      "HiGHS run time      :          0.00\n",
      "Optimal advertising increase for each company: [1500.0, 2000.0, 2500.0]\n",
      "Optimal total revenue increase: 34588.44\n"
     ]
    }
   ],
   "source": [
    "using CSV, DataFrames\n",
    "using JuMP, HiGHS\n",
    "\n",
    "three_stores = CSV.read(\"three_stores.csv\", DataFrame)\n",
    "price = three_stores.Price\n",
    "sales = three_stores.Sales\n",
    "advertising = three_stores.Advertising\n",
    "model = Model(HiGHS.Optimizer)\n",
    "\n",
    "@variable(model, x[1:3] >= 0)\n",
    "\n",
    "@objective(model, Max, sum(price[i] * (sales[i] + 0.05 * x[i]) for i in 1:3))\n",
    "\n",
    "@constraint(model, sum(x) <= 6000) #does not increase by more than 6000 for the 3\n",
    "@constraint(model, x[1] >= 1000) #increase by 1000 at lease\n",
    "@constraint(model, x[2] >= 1000)\n",
    "@constraint(model, x[3] >= 1000)\n",
    "@constraint(model, x[1] + 0.25 * x[2] <= 3000)  # Exposure limit for 1\n",
    "@constraint(model, x[2] + 0.25 * (x[1] + x[3]) <= 3000)  # Exposure limit for 2\n",
    "@constraint(model, x[3] + 0.25 * x[2] <= 3000)  # Exposure limit for 3\n",
    "\n",
    "# Solve the model\n",
    "optimize!(model)\n",
    "println(\"Optimal advertising increase for each company: \", value.(x))\n",
    "println(\"Optimal total revenue increase: \", objective_value(model))\n"
   ]
  }
 ],
 "metadata": {
  "kernelspec": {
   "display_name": "Julia 1.11.1",
   "language": "julia",
   "name": "julia-1.11"
  },
  "language_info": {
   "file_extension": ".jl",
   "mimetype": "application/julia",
   "name": "julia",
   "version": "1.11.1"
  }
 },
 "nbformat": 4,
 "nbformat_minor": 5
}
