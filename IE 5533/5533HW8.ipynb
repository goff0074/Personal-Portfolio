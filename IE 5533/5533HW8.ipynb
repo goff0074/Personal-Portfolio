{
 "cells": [
  {
   "cell_type": "code",
   "execution_count": 26,
   "id": "eb03c1d2-6961-4d2e-a5fc-a902aef79650",
   "metadata": {},
   "outputs": [],
   "source": [
    "using JuMP\n",
    "using HiGHS\n",
    "using CSV\n",
    "using DataFrames"
   ]
  },
  {
   "cell_type": "code",
   "execution_count": 27,
   "id": "3c28404c-0cc7-4e3a-806e-e77f4171ac91",
   "metadata": {},
   "outputs": [
    {
     "data": {
      "text/html": [
       "<div><div style = \"float: left;\"><span>33×6 DataFrame</span></div><div style = \"float: right;\"><span style = \"font-style: italic;\">8 rows omitted</span></div><div style = \"clear: both;\"></div></div><div class = \"data-frame\" style = \"overflow-x: scroll;\"><table class = \"data-frame\" style = \"margin-bottom: 6px;\"><thead><tr class = \"header\"><th class = \"rowNumber\" style = \"font-weight: bold; text-align: right;\">Row</th><th style = \"text-align: left;\">county_number</th><th style = \"text-align: left;\">county_name</th><th style = \"text-align: left;\">current_district</th><th style = \"text-align: left;\">vote_diff_d_minus_r</th><th style = \"text-align: left;\">vote_diff_d_minus_r_scenario_2</th><th style = \"text-align: left;\">vote_diff_d_minus_r_scenario_3</th></tr><tr class = \"subheader headerLastRow\"><th class = \"rowNumber\" style = \"font-weight: bold; text-align: right;\"></th><th title = \"Int64\" style = \"text-align: left;\">Int64</th><th title = \"String15\" style = \"text-align: left;\">String15</th><th title = \"Int64\" style = \"text-align: left;\">Int64</th><th title = \"Int64\" style = \"text-align: left;\">Int64</th><th title = \"Int64\" style = \"text-align: left;\">Int64</th><th title = \"Int64\" style = \"text-align: left;\">Int64</th></tr></thead><tbody><tr><td class = \"rowNumber\" style = \"font-weight: bold; text-align: right;\">1</td><td style = \"text-align: right;\">1</td><td style = \"text-align: left;\">Bernalillo</td><td style = \"text-align: right;\">1</td><td style = \"text-align: right;\">42941</td><td style = \"text-align: right;\">43411</td><td style = \"text-align: right;\">11336</td></tr><tr><td class = \"rowNumber\" style = \"font-weight: bold; text-align: right;\">2</td><td style = \"text-align: right;\">2</td><td style = \"text-align: left;\">Catron</td><td style = \"text-align: right;\">2</td><td style = \"text-align: right;\">-917</td><td style = \"text-align: right;\">18</td><td style = \"text-align: right;\">-716</td></tr><tr><td class = \"rowNumber\" style = \"font-weight: bold; text-align: right;\">3</td><td style = \"text-align: right;\">3</td><td style = \"text-align: left;\">Chaves</td><td style = \"text-align: right;\">2</td><td style = \"text-align: right;\">-6650</td><td style = \"text-align: right;\">-6244</td><td style = \"text-align: right;\">-6436</td></tr><tr><td class = \"rowNumber\" style = \"font-weight: bold; text-align: right;\">4</td><td style = \"text-align: right;\">4</td><td style = \"text-align: left;\">Cibola</td><td style = \"text-align: right;\">2</td><td style = \"text-align: right;\">1941</td><td style = \"text-align: right;\">1449</td><td style = \"text-align: right;\">1025</td></tr><tr><td class = \"rowNumber\" style = \"font-weight: bold; text-align: right;\">5</td><td style = \"text-align: right;\">5</td><td style = \"text-align: left;\">Colfax</td><td style = \"text-align: right;\">3</td><td style = \"text-align: right;\">116</td><td style = \"text-align: right;\">-871</td><td style = \"text-align: right;\">-1099</td></tr><tr><td class = \"rowNumber\" style = \"font-weight: bold; text-align: right;\">6</td><td style = \"text-align: right;\">6</td><td style = \"text-align: left;\">Curry</td><td style = \"text-align: right;\">3</td><td style = \"text-align: right;\">-5194</td><td style = \"text-align: right;\">-4241</td><td style = \"text-align: right;\">-5093</td></tr><tr><td class = \"rowNumber\" style = \"font-weight: bold; text-align: right;\">7</td><td style = \"text-align: right;\">7</td><td style = \"text-align: left;\">DeBaca</td><td style = \"text-align: right;\">2</td><td style = \"text-align: right;\">-299</td><td style = \"text-align: right;\">223</td><td style = \"text-align: right;\">567</td></tr><tr><td class = \"rowNumber\" style = \"font-weight: bold; text-align: right;\">8</td><td style = \"text-align: right;\">8</td><td style = \"text-align: left;\">Dona Ana</td><td style = \"text-align: right;\">2</td><td style = \"text-align: right;\">9790</td><td style = \"text-align: right;\">8856</td><td style = \"text-align: right;\">8251</td></tr><tr><td class = \"rowNumber\" style = \"font-weight: bold; text-align: right;\">9</td><td style = \"text-align: right;\">9</td><td style = \"text-align: left;\">Eddy</td><td style = \"text-align: right;\">2</td><td style = \"text-align: right;\">-6436</td><td style = \"text-align: right;\">-6787</td><td style = \"text-align: right;\">-6736</td></tr><tr><td class = \"rowNumber\" style = \"font-weight: bold; text-align: right;\">10</td><td style = \"text-align: right;\">10</td><td style = \"text-align: left;\">Grant</td><td style = \"text-align: right;\">2</td><td style = \"text-align: right;\">1723</td><td style = \"text-align: right;\">1993</td><td style = \"text-align: right;\">1121</td></tr><tr><td class = \"rowNumber\" style = \"font-weight: bold; text-align: right;\">11</td><td style = \"text-align: right;\">11</td><td style = \"text-align: left;\">Guadalupe</td><td style = \"text-align: right;\">2</td><td style = \"text-align: right;\">870</td><td style = \"text-align: right;\">260</td><td style = \"text-align: right;\">183</td></tr><tr><td class = \"rowNumber\" style = \"font-weight: bold; text-align: right;\">12</td><td style = \"text-align: right;\">12</td><td style = \"text-align: left;\">Harding</td><td style = \"text-align: right;\">3</td><td style = \"text-align: right;\">-66</td><td style = \"text-align: right;\">-349</td><td style = \"text-align: right;\">-286</td></tr><tr><td class = \"rowNumber\" style = \"font-weight: bold; text-align: right;\">13</td><td style = \"text-align: right;\">13</td><td style = \"text-align: left;\">Hidalgo</td><td style = \"text-align: right;\">2</td><td style = \"text-align: right;\">99</td><td style = \"text-align: right;\">510</td><td style = \"text-align: right;\">1014</td></tr><tr><td style = \"text-align: right;\">&vellip;</td><td style = \"text-align: right;\">&vellip;</td><td style = \"text-align: right;\">&vellip;</td><td style = \"text-align: right;\">&vellip;</td><td style = \"text-align: right;\">&vellip;</td><td style = \"text-align: right;\">&vellip;</td><td style = \"text-align: right;\">&vellip;</td></tr><tr><td class = \"rowNumber\" style = \"font-weight: bold; text-align: right;\">22</td><td style = \"text-align: right;\">22</td><td style = \"text-align: left;\">Rio Arriba</td><td style = \"text-align: right;\">3</td><td style = \"text-align: right;\">8016</td><td style = \"text-align: right;\">7948</td><td style = \"text-align: right;\">44329</td></tr><tr><td class = \"rowNumber\" style = \"font-weight: bold; text-align: right;\">23</td><td style = \"text-align: right;\">23</td><td style = \"text-align: left;\">Roosevelt</td><td style = \"text-align: right;\">2</td><td style = \"text-align: right;\">-2313</td><td style = \"text-align: right;\">-2665</td><td style = \"text-align: right;\">-2263</td></tr><tr><td class = \"rowNumber\" style = \"font-weight: bold; text-align: right;\">24</td><td style = \"text-align: right;\">24</td><td style = \"text-align: left;\">Sandoval</td><td style = \"text-align: right;\">3</td><td style = \"text-align: right;\">2707</td><td style = \"text-align: right;\">1984</td><td style = \"text-align: right;\">5668</td></tr><tr><td class = \"rowNumber\" style = \"font-weight: bold; text-align: right;\">25</td><td style = \"text-align: right;\">25</td><td style = \"text-align: left;\">San Juan</td><td style = \"text-align: right;\">3</td><td style = \"text-align: right;\">-13091</td><td style = \"text-align: right;\">-13942</td><td style = \"text-align: right;\">-13488</td></tr><tr><td class = \"rowNumber\" style = \"font-weight: bold; text-align: right;\">26</td><td style = \"text-align: right;\">26</td><td style = \"text-align: left;\">San Miguel</td><td style = \"text-align: right;\">3</td><td style = \"text-align: right;\">6473</td><td style = \"text-align: right;\">7008</td><td style = \"text-align: right;\">7571</td></tr><tr><td class = \"rowNumber\" style = \"font-weight: bold; text-align: right;\">27</td><td style = \"text-align: right;\">27</td><td style = \"text-align: left;\">Santa Fe</td><td style = \"text-align: right;\">3</td><td style = \"text-align: right;\">34523</td><td style = \"text-align: right;\">34516</td><td style = \"text-align: right;\">12145</td></tr><tr><td class = \"rowNumber\" style = \"font-weight: bold; text-align: right;\">28</td><td style = \"text-align: right;\">28</td><td style = \"text-align: left;\">Sierra</td><td style = \"text-align: right;\">2</td><td style = \"text-align: right;\">-965</td><td style = \"text-align: right;\">-658</td><td style = \"text-align: right;\">-173</td></tr><tr><td class = \"rowNumber\" style = \"font-weight: bold; text-align: right;\">29</td><td style = \"text-align: right;\">29</td><td style = \"text-align: left;\">Socorro</td><td style = \"text-align: right;\">2</td><td style = \"text-align: right;\">1285</td><td style = \"text-align: right;\">1491</td><td style = \"text-align: right;\">3004</td></tr><tr><td class = \"rowNumber\" style = \"font-weight: bold; text-align: right;\">30</td><td style = \"text-align: right;\">30</td><td style = \"text-align: left;\">Taos</td><td style = \"text-align: right;\">3</td><td style = \"text-align: right;\">9145</td><td style = \"text-align: right;\">9779</td><td style = \"text-align: right;\">10226</td></tr><tr><td class = \"rowNumber\" style = \"font-weight: bold; text-align: right;\">31</td><td style = \"text-align: right;\">31</td><td style = \"text-align: left;\">Torrance</td><td style = \"text-align: right;\">1</td><td style = \"text-align: right;\">-1107</td><td style = \"text-align: right;\">-1980</td><td style = \"text-align: right;\">-2245</td></tr><tr><td class = \"rowNumber\" style = \"font-weight: bold; text-align: right;\">32</td><td style = \"text-align: right;\">32</td><td style = \"text-align: left;\">Union</td><td style = \"text-align: right;\">3</td><td style = \"text-align: right;\">-760</td><td style = \"text-align: right;\">-606</td><td style = \"text-align: right;\">-1368</td></tr><tr><td class = \"rowNumber\" style = \"font-weight: bold; text-align: right;\">33</td><td style = \"text-align: right;\">33</td><td style = \"text-align: left;\">Valencia</td><td style = \"text-align: right;\">2</td><td style = \"text-align: right;\">685</td><td style = \"text-align: right;\">-304</td><td style = \"text-align: right;\">909</td></tr></tbody></table></div>"
      ],
      "text/latex": [
       "\\begin{tabular}{r|cccccc}\n",
       "\t& county\\_number & county\\_name & current\\_district & vote\\_diff\\_d\\_minus\\_r & vote\\_diff\\_d\\_minus\\_r\\_scenario\\_2 & \\\\\n",
       "\t\\hline\n",
       "\t& Int64 & String15 & Int64 & Int64 & Int64 & \\\\\n",
       "\t\\hline\n",
       "\t1 & 1 & Bernalillo & 1 & 42941 & 43411 & $\\dots$ \\\\\n",
       "\t2 & 2 & Catron & 2 & -917 & 18 & $\\dots$ \\\\\n",
       "\t3 & 3 & Chaves & 2 & -6650 & -6244 & $\\dots$ \\\\\n",
       "\t4 & 4 & Cibola & 2 & 1941 & 1449 & $\\dots$ \\\\\n",
       "\t5 & 5 & Colfax & 3 & 116 & -871 & $\\dots$ \\\\\n",
       "\t6 & 6 & Curry & 3 & -5194 & -4241 & $\\dots$ \\\\\n",
       "\t7 & 7 & DeBaca & 2 & -299 & 223 & $\\dots$ \\\\\n",
       "\t8 & 8 & Dona Ana & 2 & 9790 & 8856 & $\\dots$ \\\\\n",
       "\t9 & 9 & Eddy & 2 & -6436 & -6787 & $\\dots$ \\\\\n",
       "\t10 & 10 & Grant & 2 & 1723 & 1993 & $\\dots$ \\\\\n",
       "\t11 & 11 & Guadalupe & 2 & 870 & 260 & $\\dots$ \\\\\n",
       "\t12 & 12 & Harding & 3 & -66 & -349 & $\\dots$ \\\\\n",
       "\t13 & 13 & Hidalgo & 2 & 99 & 510 & $\\dots$ \\\\\n",
       "\t14 & 14 & Lea & 2 & -8412 & -7585 & $\\dots$ \\\\\n",
       "\t15 & 15 & Lincoln & 2 & -3009 & -2233 & $\\dots$ \\\\\n",
       "\t16 & 16 & Los Alamos & 3 & 395 & -347 & $\\dots$ \\\\\n",
       "\t17 & 17 & Luna & 2 & -81 & 233 & $\\dots$ \\\\\n",
       "\t18 & 18 & McKinley & 3 & 9943 & 9995 & $\\dots$ \\\\\n",
       "\t19 & 19 & Mora & 3 & 1361 & 1780 & $\\dots$ \\\\\n",
       "\t20 & 20 & Otero & 2 & -5504 & -5578 & $\\dots$ \\\\\n",
       "\t21 & 21 & Quay & 3 & -812 & -992 & $\\dots$ \\\\\n",
       "\t22 & 22 & Rio Arriba & 3 & 8016 & 7948 & $\\dots$ \\\\\n",
       "\t23 & 23 & Roosevelt & 2 & -2313 & -2665 & $\\dots$ \\\\\n",
       "\t24 & 24 & Sandoval & 3 & 2707 & 1984 & $\\dots$ \\\\\n",
       "\t25 & 25 & San Juan & 3 & -13091 & -13942 & $\\dots$ \\\\\n",
       "\t26 & 26 & San Miguel & 3 & 6473 & 7008 & $\\dots$ \\\\\n",
       "\t27 & 27 & Santa Fe & 3 & 34523 & 34516 & $\\dots$ \\\\\n",
       "\t28 & 28 & Sierra & 2 & -965 & -658 & $\\dots$ \\\\\n",
       "\t29 & 29 & Socorro & 2 & 1285 & 1491 & $\\dots$ \\\\\n",
       "\t30 & 30 & Taos & 3 & 9145 & 9779 & $\\dots$ \\\\\n",
       "\t$\\dots$ & $\\dots$ & $\\dots$ & $\\dots$ & $\\dots$ & $\\dots$ &  \\\\\n",
       "\\end{tabular}\n"
      ],
      "text/plain": [
       "\u001b[1m33×6 DataFrame\u001b[0m\n",
       "\u001b[1m Row \u001b[0m│\u001b[1m county_number \u001b[0m\u001b[1m county_name \u001b[0m\u001b[1m current_district \u001b[0m\u001b[1m vote_diff_d_minus_r \u001b[0m\u001b[1m vote\u001b[0m ⋯\n",
       "     │\u001b[90m Int64         \u001b[0m\u001b[90m String15    \u001b[0m\u001b[90m Int64            \u001b[0m\u001b[90m Int64               \u001b[0m\u001b[90m Int6\u001b[0m ⋯\n",
       "─────┼──────────────────────────────────────────────────────────────────────────\n",
       "   1 │             1  Bernalillo                  1                42941       ⋯\n",
       "   2 │             2  Catron                      2                 -917\n",
       "   3 │             3  Chaves                      2                -6650\n",
       "   4 │             4  Cibola                      2                 1941\n",
       "   5 │             5  Colfax                      3                  116       ⋯\n",
       "   6 │             6  Curry                       3                -5194\n",
       "   7 │             7  DeBaca                      2                 -299\n",
       "   8 │             8  Dona Ana                    2                 9790\n",
       "   9 │             9  Eddy                        2                -6436       ⋯\n",
       "  10 │            10  Grant                       2                 1723\n",
       "  11 │            11  Guadalupe                   2                  870\n",
       "  ⋮  │       ⋮             ⋮              ⋮                   ⋮                ⋱\n",
       "  24 │            24  Sandoval                    3                 2707\n",
       "  25 │            25  San Juan                    3               -13091       ⋯\n",
       "  26 │            26  San Miguel                  3                 6473\n",
       "  27 │            27  Santa Fe                    3                34523\n",
       "  28 │            28  Sierra                      2                 -965\n",
       "  29 │            29  Socorro                     2                 1285       ⋯\n",
       "  30 │            30  Taos                        3                 9145\n",
       "  31 │            31  Torrance                    1                -1107\n",
       "  32 │            32  Union                       3                 -760\n",
       "  33 │            33  Valencia                    2                  685       ⋯\n",
       "\u001b[36m                                                   2 columns and 12 rows omitted\u001b[0m"
      ]
     },
     "execution_count": 27,
     "metadata": {},
     "output_type": "execute_result"
    }
   ],
   "source": [
    "data = CSV.read(\"gerrymander.csv\", DataFrame)"
   ]
  },
  {
   "cell_type": "code",
   "execution_count": 28,
   "id": "63d5173d-7672-4b99-a2c6-b5f9d3352f95",
   "metadata": {},
   "outputs": [
    {
     "data": {
      "text/plain": [
       "Dict{Int64, Int64} with 33 entries:\n",
       "  5  => 116\n",
       "  16 => 395\n",
       "  20 => -5504\n",
       "  12 => -66\n",
       "  24 => 2707\n",
       "  28 => -965\n",
       "  8  => 9790\n",
       "  17 => -81\n",
       "  30 => 9145\n",
       "  1  => 42941\n",
       "  19 => 1361\n",
       "  22 => 8016\n",
       "  23 => -2313\n",
       "  6  => -5194\n",
       "  32 => -760\n",
       "  11 => 870\n",
       "  9  => -6436\n",
       "  31 => -1107\n",
       "  14 => -8412\n",
       "  3  => -6650\n",
       "  29 => 1285\n",
       "  7  => -299\n",
       "  25 => -13091\n",
       "  33 => 685\n",
       "  4  => 1941\n",
       "  ⋮  => ⋮"
      ]
     },
     "execution_count": 28,
     "metadata": {},
     "output_type": "execute_result"
    }
   ],
   "source": [
    "counties = data.county_number\n",
    "districts = 1:3\n",
    "vote_diff = Dict(row.county_number => row.vote_diff_d_minus_r for row in eachrow(data))"
   ]
  },
  {
   "cell_type": "code",
   "execution_count": 29,
   "id": "a3c3eccc-66b8-43ae-9f3c-f1582a282955",
   "metadata": {},
   "outputs": [
    {
     "data": {
      "text/latex": [
       "$$ 42941 x_{3,1} - 917 x_{3,2} - 6650 x_{3,3} + 1941 x_{3,4} + 116 x_{3,5} - 5194 x_{3,6} - 299 x_{3,7} + 9790 x_{3,8} - 6436 x_{3,9} + 1723 x_{3,10} + 870 x_{3,11} - 66 x_{3,12} + 99 x_{3,13} - 8412 x_{3,14} - 3009 x_{3,15} + 395 x_{3,16} - 81 x_{3,17} + 9943 x_{3,18} + 1361 x_{3,19} - 5504 x_{3,20} - 812 x_{3,21} + 8016 x_{3,22} - 2313 x_{3,23} + 2707 x_{3,24} - 13091 x_{3,25} + 6473 x_{3,26} + 34523 x_{3,27} - 965 x_{3,28} + 1285 x_{3,29} + 9145 x_{3,30} - 1107 x_{3,31} - 760 x_{3,32} + 685 x_{3,33} \\geq 100 $$"
      ],
      "text/plain": [
       "42941 x[3,1] - 917 x[3,2] - 6650 x[3,3] + 1941 x[3,4] + 116 x[3,5] - 5194 x[3,6] - 299 x[3,7] + 9790 x[3,8] - 6436 x[3,9] + 1723 x[3,10] + 870 x[3,11] - 66 x[3,12] + 99 x[3,13] - 8412 x[3,14] - 3009 x[3,15] + 395 x[3,16] - 81 x[3,17] + 9943 x[3,18] + 1361 x[3,19] - 5504 x[3,20] - 812 x[3,21] + 8016 x[3,22] - 2313 x[3,23] + 2707 x[3,24] - 13091 x[3,25] + 6473 x[3,26] + 34523 x[3,27] - 965 x[3,28] + 1285 x[3,29] + 9145 x[3,30] - 1107 x[3,31] - 760 x[3,32] + 685 x[3,33] ≥ 100"
      ]
     },
     "execution_count": 29,
     "metadata": {},
     "output_type": "execute_result"
    }
   ],
   "source": [
    "model = Model(HiGHS.Optimizer)\n",
    "@variable(model, x[districts, counties], Bin)\n",
    "@objective(model, Max, sum(vote_diff[j] * x[2, j] for j in counties))\n",
    "for j in counties\n",
    "    @constraint(model, sum(x[i, j] for i in districts) == 1)\n",
    "end\n",
    "@constraint(model, sum(vote_diff[j] * x[1, j] for j in counties) >= 100)  # District 1\n",
    "@constraint(model, sum(vote_diff[j] * x[2, j] for j in counties) >= 100)  #District 2\n",
    "@constraint(model, sum(vote_diff[j] * x[3, j] for j in counties) >= 100)  # District 3"
   ]
  },
  {
   "cell_type": "code",
   "execution_count": 30,
   "id": "198776c6-d7c4-45c6-ad77-2e54c592f9f3",
   "metadata": {},
   "outputs": [
    {
     "name": "stdout",
     "output_type": "stream",
     "text": [
      "Running HiGHS 1.8.0 (git hash: fcfb53414): Copyright (c) 2024 HiGHS under MIT licence terms\n",
      "Coefficient ranges:\n",
      "  Matrix [1e+00, 4e+04]\n",
      "  Cost   [7e+01, 4e+04]\n",
      "  Bound  [1e+00, 1e+00]\n",
      "  RHS    [1e+00, 1e+02]\n",
      "Presolving model\n",
      "36 rows, 99 cols, 198 nonzeros  0s\n",
      "36 rows, 99 cols, 198 nonzeros  0s\n",
      "Objective function is integral with scale 1\n",
      "\n",
      "Solving MIP model with:\n",
      "   36 rows\n",
      "   99 cols (99 binary, 0 integer, 0 implied int., 0 continuous)\n",
      "   198 nonzeros\n",
      "\n",
      "        Nodes      |    B&B Tree     |            Objective Bounds              |  Dynamic Constraints |       Work      \n",
      "     Proc. InQueue |  Leaves   Expl. | BestBound       BestSol              Gap |   Cuts   InLp Confl. | LpIters     Time\n",
      "\n",
      "         0       0         0   0.00%   132013          -inf                 inf        0      0      0         0     0.0s\n",
      " R       0       0         0   0.00%   76197           68266             11.62%        0      0      0        54     0.0s\n",
      " C       0       0         0   0.00%   76197           68403             11.39%       73      9      6        79     0.0s\n",
      " L       0       0         0   0.00%   76197           76145              0.07%      358     39      6       290     0.3s\n",
      "\n",
      "Symmetry detection completed in 0.0s\n",
      "Found 1 full orbitope(s) acting on 66 columns\n",
      "\n",
      " L       0       0         0   0.00%   76197           76147              0.07%      358     15      6       393     0.4s\n",
      " B       0       0         0   0.00%   76197           76167              0.04%      358     15      6       584     0.4s\n",
      " B      60      20        17  27.38%   76197           76178              0.02%      386     13    283      1001     0.5s\n",
      " T     148      34        42  28.24%   76197           76181              0.02%      454     19   1043      1672     0.8s\n",
      " B     364      88       117  28.24%   76197           76183              0.02%      524      8   2082      2582     1.1s\n",
      " B     805       0       273 100.00%   76197           76191              0.01%      495     14   3662      3919     1.5s\n",
      "       806       0       273 100.00%   76197           76191              0.01%      496     14   3671      3922     1.5s\n",
      "\n",
      "Solving report\n",
      "  Status            Optimal\n",
      "  Primal bound      76191\n",
      "  Dual bound        76197\n",
      "  Gap               0.00787% (tolerance: 0.01%)\n",
      "  Solution status   feasible\n",
      "                    76191 (objective)\n",
      "                    0 (bound viol.)\n",
      "                    0 (int. viol.)\n",
      "                    0 (row viol.)\n",
      "  Timing            1.53 (total)\n",
      "                    0.00 (presolve)\n",
      "                    0.00 (postsolve)\n",
      "  Nodes             806\n",
      "  LP iterations     3922 (total)\n",
      "                    924 (strong br.)\n",
      "                    371 (separation)\n",
      "                    294 (heuristics)\n",
      "Optimal solution found!\n",
      "Democratic margin in District 2: 76191.0\n",
      "District 1: Counties [2, 8, 10, 12, 14, 15, 18, 19, 20, 21, 22, 23, 24, 25, 33]\n",
      "District 2: Counties [1, 3, 4, 6, 9, 13, 16, 17, 26, 27, 28, 30]\n",
      "District 3: Counties [5, 7, 11, 29, 31, 32]\n"
     ]
    }
   ],
   "source": [
    "optimize!(model)\n",
    "\n",
    "# Check if the solution is optimal\n",
    "if termination_status(model) == MOI.OPTIMAL\n",
    "    println(\"Optimal solution found!\")\n",
    "    println(\"Democratic margin in District 2: \", objective_value(model))\n",
    "\n",
    "    # Output the county assignments for each district\n",
    "    for i in districts\n",
    "        assigned_counties = [j for j in counties if value(x[i, j]) > 0.5]\n",
    "        println(\"District $i: Counties $assigned_counties\")\n",
    "    end\n",
    "else\n",
    "    println(\"No optimal solution found.\")\n",
    "end"
   ]
  }
 ],
 "metadata": {
  "kernelspec": {
   "display_name": "Julia 1.11.1",
   "language": "julia",
   "name": "julia-1.11"
  },
  "language_info": {
   "file_extension": ".jl",
   "mimetype": "application/julia",
   "name": "julia",
   "version": "1.11.1"
  }
 },
 "nbformat": 4,
 "nbformat_minor": 5
}
